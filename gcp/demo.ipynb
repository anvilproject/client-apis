{
 "cells": [
  {
   "cell_type": "markdown",
   "metadata": {},
   "source": [
    "# FireFly Demo"
   ]
  },
  {
   "source": [
    "## Prerequisites\n",
    "\n",
    "Make sure you have read the `README.md` and to configure this Notebook's Python Interpreter to the `venv`"
   ],
   "cell_type": "markdown",
   "metadata": {}
  },
  {
   "cell_type": "markdown",
   "metadata": {},
   "source": [
    "## Extract PFB"
   ]
  },
  {
   "cell_type": "code",
   "execution_count": null,
   "metadata": {},
   "outputs": [],
   "source": [
    "%run pfb_extractor.py"
   ]
  },
  {
   "cell_type": "markdown",
   "metadata": {},
   "source": [
    "## Upload to GCP"
   ]
  },
  {
   "cell_type": "code",
   "execution_count": null,
   "metadata": {},
   "outputs": [],
   "source": [
    "%run data_uploader.py"
   ]
  },
  {
   "source": [
    "## Copy to Healthcare API"
   ],
   "cell_type": "markdown",
   "metadata": {}
  },
  {
   "cell_type": "code",
   "execution_count": null,
   "metadata": {},
   "outputs": [],
   "source": [
    "%run data_transfer.py"
   ]
  },
  {
   "source": [
    "## Test FHIR Commands"
   ],
   "cell_type": "markdown",
   "metadata": {}
  },
  {
   "cell_type": "code",
   "execution_count": null,
   "metadata": {
    "tags": [
     "outputPrepend"
    ]
   },
   "outputs": [],
   "source": [
    "!FHIR_URL=\"https://healthcare.googleapis.com/v1beta1/projects/$GCP_PROJECT_ID/locations/$GCP_LOCATION/datasets/$GCP_DATASET/fhirStores/$GCP_DATASTORE/fhir\"\n",
    "!curl -H \"Authorization:Bearer $(gcloud auth application-default print-access-token)\" -H \"Content-Type: application/json; charset=utf-8\" $FHIR_URL/metadata"
   ]
  }
 ],
 "metadata": {
  "kernelspec": {
   "name": "firefly",
   "display_name": "Python 3.9.2 64-bit ('python@3.9')"
  },
  "language_info": {
   "codemirror_mode": {
    "name": "ipython",
    "version": 3
   },
   "file_extension": ".py",
   "mimetype": "text/x-python",
   "name": "python",
   "nbconvert_exporter": "python",
   "pygments_lexer": "ipython3",
   "version": "3.9.2"
  },
  "metadata": {
   "interpreter": {
    "hash": "637120e5732c0d6f15627d849c924ae9b8cec99be3e75013ee3438746c919073"
   }
  }
 },
 "nbformat": 4,
 "nbformat_minor": 4
}