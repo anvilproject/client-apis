{
 "cells": [
  {
   "cell_type": "markdown",
   "source": [
    "## Compare workspace to a reference specification\n",
    "### Install client api"
   ],
   "metadata": {}
  },
  {
   "cell_type": "code",
   "execution_count": 1,
   "source": [
    "# import sys\n",
    "# !{sys.executable} -m pip uninstall  -y pyanvil  \n",
    "# !{sys.executable} -m pip install   pyAnVIL==0.0.7rc6 --upgrade\n",
    "# !{sys.executable} -m pip show pyanvil\n",
    "# # >>> Name: pyAnVIL\n",
    "# # >>>Version: 0.0.7rc6"
   ],
   "outputs": [],
   "metadata": {}
  },
  {
   "cell_type": "markdown",
   "source": [
    "### Select consortium and target workspace(s)\n",
    "> See https://anvil.terra.bio/#workspaces/terra-test-bwalsh/pyAnVIL%20Notebook/data schema to edit reference specification"
   ],
   "metadata": {}
  },
  {
   "cell_type": "code",
   "execution_count": 2,
   "source": [
    "import os\n",
    "from anvil.util.ingest_helper import IngestHelper\n",
    "\n",
    "workspace = os.environ['WORKSPACE_NAME']\n",
    "namespace = os.environ['WORKSPACE_NAMESPACE']\n",
    "\n",
    "helper = IngestHelper(workspace_namespace=namespace, workspace_name=workspace)\n",
    "helper.interact()"
   ],
   "outputs": [
    {
     "output_type": "display_data",
     "data": {
      "text/plain": [
       "interactive(children=(Dropdown(description='consortium', options=('Choose...', '1000G', 'ccdg', 'cmg'), value=…"
      ],
      "application/vnd.jupyter.widget-view+json": {
       "model_id": "8d4a1251c933454293f1f7b45fca6333",
       "version_major": 2,
       "version_minor": 0
      }
     },
     "metadata": {}
    }
   ],
   "metadata": {}
  }
 ],
 "metadata": {
  "kernelspec": {
   "display_name": "Python 3",
   "language": "python",
   "name": "python3"
  },
  "language_info": {
   "codemirror_mode": {
    "name": "ipython",
    "version": 3
   },
   "file_extension": ".py",
   "mimetype": "text/x-python",
   "name": "python",
   "nbconvert_exporter": "python",
   "pygments_lexer": "ipython3",
   "version": "3.7.9"
  },
  "toc": {
   "base_numbering": 1,
   "nav_menu": {},
   "number_sections": true,
   "sideBar": true,
   "skip_h1_title": false,
   "title_cell": "Table of Contents",
   "title_sidebar": "Contents",
   "toc_cell": false,
   "toc_position": {},
   "toc_section_display": true,
   "toc_window_display": false
  }
 },
 "nbformat": 4,
 "nbformat_minor": 2
}