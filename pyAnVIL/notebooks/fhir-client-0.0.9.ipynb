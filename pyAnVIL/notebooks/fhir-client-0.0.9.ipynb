{
 "cells": [
  {
   "cell_type": "code",
   "execution_count": null,
   "metadata": {},
   "outputs": [],
   "source": [
    "# # Uncomment this block to install dependencies\n",
    "\n",
    "# # Install latest anvil\n",
    "# import sys\n",
    "# !{sys.executable} -m pip uninstall  -y pyanvil\n",
    "# !{sys.executable} -m pip install   pyAnVIL==0.0.9rc2 --upgrade\n",
    "# !{sys.executable} -m pip show pyanvil\n",
    "# >>> Version: 0.0.9rc2\n",
    "\n",
    "# # fhirclient needs to be installed separately. see  https://github.com/smart-on-fhir/client-py/issues/70\n",
    "# !{sys.executable} -m pip install  git+https://github.com/smart-on-fhir/client-py#egg=fhirclient\n",
    "# !{sys.executable} -m pip show fhirclient\n"
   ]
  },
  {
   "cell_type": "code",
   "execution_count": 1,
   "metadata": {},
   "outputs": [],
   "source": [
    "# # Uncomment this block to turn on logging\n",
    "\n",
    "# import sys\n",
    "# import logging\n",
    "# root = logging.getLogger()\n",
    "# root.setLevel(logging.DEBUG)\n",
    "\n",
    "# handler = logging.StreamHandler(sys.stdout)\n",
    "# handler.setLevel(logging.DEBUG)\n",
    "# formatter = logging.Formatter('%(asctime)s - %(name)s - %(levelname)s - %(message)s')\n",
    "# handler.setFormatter(formatter)\n",
    "# root.addHandler(handler)\n"
   ]
  },
  {
   "cell_type": "code",
   "execution_count": 61,
   "metadata": {},
   "outputs": [],
   "source": [
    "def service_account():\n",
    "    from subprocess import Popen, PIPE\n",
    "    cmd = ['gcloud', 'config', 'get-value', 'account']\n",
    "    p = Popen(cmd, stdout=PIPE, stderr=PIPE)\n",
    "    account, stderr = p.communicate()\n",
    "    assert p.returncode == 0, \"Unable to retrieve service account {stderr}\"\n",
    "    return account.decode(\"utf-8\").rstrip()"
   ]
  },
  {
   "cell_type": "markdown",
   "metadata": {},
   "source": [
    "# pyAnVIL support for Google's FHIR server\n",
    "\n",
    "We incorporated `fhirclient`, a flexible Python client for FHIR servers supporting the SMART on FHIR protocol. \n",
    "\n",
    "For more information on usage see [smart-on-fhir/client-py](https://github.com/smart-on-fhir/client-py)"
   ]
  },
  {
   "cell_type": "code",
   "execution_count": 62,
   "metadata": {},
   "outputs": [
    {
     "name": "stdout",
     "output_type": "stream",
     "text": [
      "logged in as pet-110793006573203727769@terra-test-bwalsh.iam.gserviceaccount.com\n"
     ]
    }
   ],
   "source": [
    "# get service account\n",
    "print(f\"logged in as {service_account()}\")\n"
   ]
  },
  {
   "cell_type": "markdown",
   "metadata": {},
   "source": [
    "## The user should exist in the project and in the healthcare API. Example:\n",
    "\n",
    "![image](https://user-images.githubusercontent.com/47808/129414919-38136ec6-5e79-41f9-9b42-71aac73d7cf2.png)\n"
   ]
  },
  {
   "cell_type": "code",
   "execution_count": 58,
   "metadata": {},
   "outputs": [
    {
     "name": "stdout",
     "output_type": "stream",
     "text": [
      "Server connection ready.\n"
     ]
    }
   ],
   "source": [
    "# Connect to the server\n",
    "from anvil.fhir.client import FHIRClient\n",
    "settings = {\n",
    "    'app_id': 'my_web_app',\n",
    "    'api_base': 'https://healthcare.googleapis.com/v1/projects/gcp-testing-308520/locations/us-east4/datasets/testset/fhirStores/fhirstore/fhir'\n",
    "}\n",
    "smart = FHIRClient(settings=settings)\n",
    "assert smart.ready, \"server should be ready\"\n",
    "print(\"Server connection ready.\")"
   ]
  },
  {
   "cell_type": "code",
   "execution_count": 59,
   "metadata": {},
   "outputs": [
    {
     "name": "stdout",
     "output_type": "stream",
     "text": [
      "Research Studies: ['1000g-high-coverage-2019', 'my NCPI research study example']\n"
     ]
    }
   ],
   "source": [
    "# search for all instances of ResearchStudy\n",
    "import fhirclient.models.researchstudy as rs\n",
    "titles = [s.title for s in rs.ResearchStudy.where(struct={}).perform_resources(smart.server)]\n",
    "assert len(titles) > 0, \"Should have at least one ResearchStudy\"\n",
    "print(f\"Research Studies: {titles}\")"
   ]
  }
 ],
 "metadata": {
  "kernelspec": {
   "display_name": "Python 3",
   "language": "python",
   "name": "python3"
  },
  "language_info": {
   "codemirror_mode": {
    "name": "ipython",
    "version": 3
   },
   "file_extension": ".py",
   "mimetype": "text/x-python",
   "name": "python",
   "nbconvert_exporter": "python",
   "pygments_lexer": "ipython3",
   "version": "3.7.9"
  },
  "toc": {
   "base_numbering": 1,
   "nav_menu": {},
   "number_sections": true,
   "sideBar": true,
   "skip_h1_title": false,
   "title_cell": "Table of Contents",
   "title_sidebar": "Contents",
   "toc_cell": false,
   "toc_position": {},
   "toc_section_display": true,
   "toc_window_display": false
  }
 },
 "nbformat": 4,
 "nbformat_minor": 2
}
